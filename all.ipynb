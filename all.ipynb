{
 "cells": [
  {
   "cell_type": "markdown",
   "source": [
    "top-quality libraries that are used for artificial intelligence"
   ],
   "metadata": {
    "collapsed": false
   },
   "id": "dda2f3e23f78bcc"
  },
  {
   "cell_type": "code",
   "execution_count": 1,
   "outputs": [
    {
     "name": "stdout",
     "output_type": "stream",
     "text": [
      "Ultralytics YOLOv8.1.20 🚀 Python-3.11.6 torch-2.2.0+cu121 CUDA:0 (NVIDIA GeForce RTX 4060, 8188MiB)\n",
      "Setup complete ✅ (12 CPUs, 13.9 GB RAM, 576.3/893.6 GB disk)\n"
     ]
    }
   ],
   "source": [
    "import ultralytics\n",
    "import os\n",
    "import numpy as np\n",
    "import pandas as pd\n",
    "import seaborn as sns\n",
    "import matplotlib.pyplot as plt\n",
    "from ultralytics import YOLO\n",
    "import torch\n",
    "from torch import nn\n",
    "from torch.utils.data import DataLoader, Subset, Dataset, TensorDataset\n",
    "from torchvision import datasets, models\n",
    "from torchvision.io import read_image\n",
    "from torchvision.transforms import v2\n",
    "from torchmetrics.detection.mean_ap import MeanAveragePrecision\n",
    "from tqdm.notebook import tqdm\n",
    "from PIL import Image\n",
    "%matplotlib inline\n",
    "ultralytics.checks()"
   ],
   "metadata": {
    "collapsed": false
   },
   "id": "103df8d87c6d3f1c"
  },
  {
   "cell_type": "code",
   "execution_count": 2,
   "outputs": [
    {
     "name": "stdout",
     "output_type": "stream",
     "text": [
      "Saint-Makasin\n"
     ]
    }
   ],
   "source": [
    "print('Saint-Makasin')"
   ],
   "metadata": {
    "collapsed": false,
    "ExecuteTime": {
     "end_time": "2024-03-04T15:35:41.052601700Z",
     "start_time": "2024-03-04T15:35:41.050330900Z"
    }
   },
   "id": "a09778f273165944"
  }
 ],
 "metadata": {
  "kernelspec": {
   "display_name": "Python 3",
   "language": "python",
   "name": "python3"
  },
  "language_info": {
   "codemirror_mode": {
    "name": "ipython",
    "version": 2
   },
   "file_extension": ".py",
   "mimetype": "text/x-python",
   "name": "python",
   "nbconvert_exporter": "python",
   "pygments_lexer": "ipython2",
   "version": "2.7.6"
  }
 },
 "nbformat": 4,
 "nbformat_minor": 5
}
